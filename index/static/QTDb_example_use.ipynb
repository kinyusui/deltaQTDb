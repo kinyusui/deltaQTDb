{
 "cells": [
  {
   "cell_type": "markdown",
   "metadata": {
    "collapsed": true
   },
   "source": [
    "# ∆QT Database Example Use\n",
    "\n",
    "Sample notebook for querying ∆QT Database ([download this notebook](/index/static/QTDb_example_use.ipynb))\n",
    "\n",
    "Can also incorporate [Twosides](http://tatonettilab.org/resources/tatonetti-stm.html) for gathering additional evidence for drug-side effect relationships \n",
    "\n",
    "**Input:**  [Drug(s) to evaluate from list of drugs in database](#input)\n",
    "\n",
    "**Step 1:** [Define function for extracting ∆QTs from API](#step1)\n",
    "\n",
    "**Step 2:** [API call to obtain ∆QTs for each individual drug and combination](#step2)\n",
    "\n",
    "**Step 3:** [Bin ∆QTs for visualizing in histogram](#step3)\n",
    "\n",
    "**Step 4:** [Visualize ∆QTs](#step4)\n"
   ]
  },
  {
   "cell_type": "code",
   "execution_count": 1,
   "metadata": {
    "collapsed": false
   },
   "outputs": [
    {
     "name": "stderr",
     "output_type": "stream",
     "text": [
      "/usr/local/lib/python2.7/site-packages/matplotlib/font_manager.py:273: UserWarning: Matplotlib is building the font cache using fc-list. This may take a moment.\n",
      "  warnings.warn('Matplotlib is building the font cache using fc-list. This may take a moment.')\n"
     ]
    }
   ],
   "source": [
    "%matplotlib inline"
   ]
  },
  {
   "cell_type": "code",
   "execution_count": 2,
   "metadata": {
    "collapsed": true
   },
   "outputs": [],
   "source": [
    "from urllib2 import Request, urlopen, URLError\n",
    "import json\n",
    "\n",
    "import numpy as np\n",
    "from collections import defaultdict\n",
    "\n",
    "import matplotlib.pyplot as plt\n",
    "#import seaborn as sns"
   ]
  },
  {
   "cell_type": "markdown",
   "metadata": {},
   "source": [
    "### Demo"
   ]
  },
  {
   "cell_type": "markdown",
   "metadata": {},
   "source": [
    "<a id='input'></a>\n",
    "**Input:** Drug(s) to evaluate from list of drugs in database"
   ]
  },
  {
   "cell_type": "code",
   "execution_count": 3,
   "metadata": {
    "collapsed": false
   },
   "outputs": [
    {
     "name": "stdout",
     "output_type": "stream",
     "text": [
      "\n",
      "251 drugs found\n"
     ]
    }
   ],
   "source": [
    "# Obtain list of possible drugs\n",
    "concept2name = dict()\n",
    "name2concept = dict()\n",
    "\n",
    "request = Request('http://deltaqt.org/index/js/drugs-brandnames-v4.js')\n",
    "response = urlopen(request).read()\n",
    "\n",
    "for line in response.split('\\n'):\n",
    "    if line.startswith('//') == False and line.startswith('var') == False and line not in ['','];']:\n",
    "        if line.split(\"'\")[1].startswith('('):\n",
    "            continue\n",
    "        concept_id = int(line.split(\"'\")[1])\n",
    "        drugname = line.split(\"'\")[-2].split('(')[0].strip()\n",
    "        #print concept_id, drugname\n",
    "        concept2name[concept_id] = drugname\n",
    "        name2concept[drugname] = concept_id\n",
    "\n",
    "print '\\n',len(concept2name), \"drugs found\""
   ]
  },
  {
   "cell_type": "code",
   "execution_count": 4,
   "metadata": {
    "collapsed": false
   },
   "outputs": [
    {
     "name": "stdout",
     "output_type": "stream",
     "text": [
      "1309944\n"
     ]
    },
    {
     "data": {
      "text/plain": [
       "'1309944'"
      ]
     },
     "execution_count": 4,
     "metadata": {},
     "output_type": "execute_result"
    }
   ],
   "source": [
    "# Test for amiodarone alone\n",
    "print name2concept['Amiodarone']\n",
    "drugs = [1309944]\n",
    "drugs_api_str = \",\".join([str(d) for d in drugs])\n",
    "drugs_api_str"
   ]
  },
  {
   "cell_type": "code",
   "execution_count": 5,
   "metadata": {
    "collapsed": false
   },
   "outputs": [
    {
     "name": "stdout",
     "output_type": "stream",
     "text": [
      "1777806 929887\n"
     ]
    },
    {
     "data": {
      "text/plain": [
       "'1777806,929887'"
      ]
     },
     "execution_count": 5,
     "metadata": {},
     "output_type": "execute_result"
    }
   ],
   "source": [
    "# Test for ceftriaxone and lansoprazole\n",
    "print name2concept['Ceftriaxone'], name2concept['Lansoprazole']\n",
    "drugs = [1777806, 929887]\n",
    "drugs_api_str = \",\".join([str(d) for d in drugs])\n",
    "drugs_api_str"
   ]
  },
  {
   "cell_type": "markdown",
   "metadata": {},
   "source": [
    "<a id='step1'></a>\n",
    "**Step 1:** Define function for extracting ∆QTs from API"
   ]
  },
  {
   "cell_type": "code",
   "execution_count": 6,
   "metadata": {
    "collapsed": true
   },
   "outputs": [],
   "source": [
    "def pull_deltas(drugs_api_str, cached=False):\n",
    "    if ',' in drugs_api_str:\n",
    "        cached = True\n",
    "    \n",
    "    delta_qts = []\n",
    "    cached_qts = []\n",
    "    request = Request('http://deltaqt.org/api/v1/query?drugs=%s' %drugs_api_str)\n",
    "    \n",
    "    try:\n",
    "        response = urlopen(request).read()\n",
    "        decoded = json.loads(response)\n",
    "        #print len(decoded)\n",
    "\n",
    "        for p in decoded['delta_qts']:\n",
    "            delta_qts.append( p['delta'] )\n",
    "            \n",
    "        if cached == True:\n",
    "            for p in decoded['cache_'+drugs_api_str.split(',')[1]]:\n",
    "                cached_qts.append( p['delta'] )\n",
    "            \n",
    "    except URLError, e:\n",
    "        print '%s not found in database' %drugs_api_str, e\n",
    "    \n",
    "    if cached == True:\n",
    "        return delta_qts, cached_qts\n",
    "    else:\n",
    "        return delta_qts"
   ]
  },
  {
   "cell_type": "markdown",
   "metadata": {},
   "source": [
    "<a id='step2'></a>\n",
    "**Step 2:** API call to obtain ∆QTs for each individual drug and combination"
   ]
  },
  {
   "cell_type": "code",
   "execution_count": 7,
   "metadata": {
    "collapsed": false
   },
   "outputs": [
    {
     "name": "stdout",
     "output_type": "stream",
     "text": [
      "[1777806, 929887]\n"
     ]
    }
   ],
   "source": [
    "print drugs\n",
    "drugs_api_str = \",\".join([str(d) for d in drugs])\n",
    "\n",
    "delta_qts = []\n",
    "individ_drug_qts = defaultdict(list)\n",
    "\n",
    "if len(drugs) == 1:\n",
    "    delta_qts = pull_deltas(drugs_api_str)\n",
    "elif len(drugs) > 1:\n",
    "    # API returns deltas for patients taking all N drugs, and for the Nth drug alone\n",
    "    # Need to run API for 1 – (N-1)th drugs\n",
    "    for d in drugs[0:-1]:\n",
    "        individ_drug_qts[d] = pull_deltas(str(d))\n",
    "    \n",
    "    delta_qts, individ_drug_qts[drugs[-1]] = pull_deltas(drugs_api_str)"
   ]
  },
  {
   "cell_type": "markdown",
   "metadata": {},
   "source": [
    "<a id='step3'></a>\n",
    "**Step 3:** Bin ∆QTs for visualizing in histogram"
   ]
  },
  {
   "cell_type": "code",
   "execution_count": 8,
   "metadata": {
    "collapsed": false
   },
   "outputs": [
    {
     "name": "stdout",
     "output_type": "stream",
     "text": [
      "3 bins\n"
     ]
    }
   ],
   "source": [
    "thresholds = [-110, -100, -90, -80, -70, -60, -50, -40, -30, -20, -10, 0, 10, 20, 30, 40, 50, 60, 70, 80, 90, 100, 110, 120, 130, 140, 150]\n",
    "\n",
    "bins = dict()\n",
    "\n",
    "delta_qts_arr = np.array(delta_qts)\n",
    "weights = np.ones_like(delta_qts_arr)/float(len(delta_qts_arr))*100.0\n",
    "hist, bin_edges = np.histogram(delta_qts_arr, weights=weights, bins=thresholds)\n",
    "bins['all'] = hist\n",
    "\n",
    "if len(drugs) > 1:\n",
    "    for d in individ_drug_qts:\n",
    "        individ_drug_qts_arr = np.array(individ_drug_qts[d])\n",
    "        weights = np.ones_like(individ_drug_qts_arr)/float(len(individ_drug_qts_arr))*100.0\n",
    "        hist, bin_edges = np.histogram(individ_drug_qts_arr, weights=weights, bins=thresholds)\n",
    "        bins[d] = hist\n",
    "print len(bins), \"bins\""
   ]
  },
  {
   "cell_type": "markdown",
   "metadata": {},
   "source": [
    "<a id='step4'></a>\n",
    "**Step 4:** Visualize ∆QTs"
   ]
  },
  {
   "cell_type": "code",
   "execution_count": 9,
   "metadata": {
    "collapsed": false
   },
   "outputs": [
    {
     "data": {
      "text/plain": [
       "<matplotlib.legend.Legend at 0x10d7b4650>"
      ]
     },
     "execution_count": 9,
     "metadata": {},
     "output_type": "execute_result"
    },
    {
     "data": {
      "image/png": "[encoded data removed]",
      "text/plain": [
       "<matplotlib.figure.Figure at 0x10d7d9110>"
      ]
     },
     "metadata": {},
     "output_type": "display_data"
    }
   ],
   "source": [
    "xpos = [(bin_edges[i]+bin_edges[i+1])/2 for i in range(len(bin_edges)-1)]\n",
    "if len(drugs) == 1:\n",
    "    plt.bar(xpos, bins['all'], width=8, label=concept2name[drugs[0]])\n",
    "\n",
    "elif len(drugs) > 1:\n",
    "    plt.bar(xpos, bins['all'], width=8, label='Combo')\n",
    "    for d in drugs:\n",
    "        plt.plot(xpos, bins[d], label=concept2name[d])\n",
    "\n",
    "plt.xlim(-115,155)\n",
    "plt.ylim(0,28)\n",
    "plt.xlabel(u'∆QTc (milliseconds)')\n",
    "plt.ylabel('% of patients')\n",
    "plt.legend()"
   ]
  },
  {
   "cell_type": "code",
   "execution_count": null,
   "metadata": {
    "collapsed": true
   },
   "outputs": [],
   "source": []
  }
 ],
 "metadata": {
  "kernelspec": {
   "display_name": "Python 2",
   "language": "python",
   "name": "python2"
  },
  "language_info": {
   "codemirror_mode": {
    "name": "ipython",
    "version": 2
   },
   "file_extension": ".py",
   "mimetype": "text/x-python",
   "name": "python",
   "nbconvert_exporter": "python",
   "pygments_lexer": "ipython2",
   "version": "2.7.9"
  }
 },
 "nbformat": 4,
 "nbformat_minor": 2
}
